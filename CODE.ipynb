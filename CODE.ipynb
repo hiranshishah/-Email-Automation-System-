{
  "nbformat": 4,
  "nbformat_minor": 0,
  "metadata": {
    "colab": {
      "provenance": []
    },
    "kernelspec": {
      "name": "python3",
      "display_name": "Python 3"
    },
    "language_info": {
      "name": "python"
    }
  },
  "cells": [
    {
      "cell_type": "markdown",
      "source": [
        "**DSN2099 Project Exhibition**"
      ],
      "metadata": {
        "id": "4MvbPR1XIrPQ"
      }
    },
    {
      "cell_type": "markdown",
      "source": [
        " there are two types of mails:\n",
        "\n",
        "*   Spam mails\n",
        "*   Ham mails\n",
        "\n",
        "workflow:\n",
        "\n",
        "mail data - data pre processing\n"
      ],
      "metadata": {
        "id": "xo1ml9UBnQNA"
      }
    },
    {
      "cell_type": "markdown",
      "source": [
        "**Spam Detection**"
      ],
      "metadata": {
        "id": "a6ZLQlyJRgKg"
      }
    },
    {
      "cell_type": "markdown",
      "metadata": {
        "id": "kqB21QOgMg-G"
      },
      "source": [
        "Importing the Dependencies"
      ]
    },
    {
      "cell_type": "code",
      "metadata": {
        "id": "rALI06-oHusw"
      },
      "source": [
        "import numpy as np\n",
        "import pandas as pd\n",
        "from sklearn.model_selection import train_test_split\n",
        "from sklearn.feature_extraction.text import TfidfVectorizer\n",
        "from sklearn.linear_model import LogisticRegression\n",
        "from sklearn.metrics import accuracy_score"
      ],
      "execution_count": 25,
      "outputs": []
    },
    {
      "cell_type": "code",
      "source": [
        "from google.colab import drive\n",
        "drive.mount('/content/drive')"
      ],
      "metadata": {
        "colab": {
          "base_uri": "https://localhost:8080/"
        },
        "id": "hj3T4eIr3-CO",
        "outputId": "25c79c19-2d24-44c8-8a9b-a6e6cd6c9081"
      },
      "execution_count": 26,
      "outputs": [
        {
          "output_type": "stream",
          "name": "stdout",
          "text": [
            "Drive already mounted at /content/drive; to attempt to forcibly remount, call drive.mount(\"/content/drive\", force_remount=True).\n"
          ]
        }
      ]
    },
    {
      "cell_type": "markdown",
      "metadata": {
        "id": "YyKe9o2ONeFv"
      },
      "source": [
        "Data Collection & Pre-Processing"
      ]
    },
    {
      "cell_type": "code",
      "metadata": {
        "id": "CpStHH8KNcYB"
      },
      "source": [
        "# loading the data from csv file to a pandas Dataframe\n",
        "raw_mail_data = pd.read_csv(r\"https://drive.google.com/file/d/11asqfA9wl-uNnWHADCHGLqIrWFDbuyX2/view?usp=share_link\")"
      ],
      "execution_count": 38,
      "outputs": []
    },
    {
      "cell_type": "code",
      "metadata": {
        "colab": {
          "base_uri": "https://localhost:8080/"
        },
        "id": "pdn-7VE2NxsZ",
        "outputId": "5487433b-7bfa-439b-e473-e625bbfd5f8d"
      },
      "source": [
        "print(raw_mail_data)"
      ],
      "execution_count": 39,
      "outputs": [
        {
          "output_type": "stream",
          "name": "stdout",
          "text": [
            "    <!DOCTYPE html><html><head><meta name=\"google\" content=\"notranslate\"><meta http-equiv=\"X-UA-Compatible\" content=\"IE=edge;\"><style nonce=\"rzJ0PtsFg-jhS16QLcRDKQ\">@font-face{font-family:'Roboto';font-style:italic;font-weight:400;src:url(//fonts.gstatic.com/s/roboto/v18/KFOkCnqEu92Fr1Mu51xIIzc.ttf)format('truetype');}@font-face{font-family:'Roboto';font-style:normal;font-weight:300;src:url(//fonts.gstatic.com/s/roboto/v18/KFOlCnqEu92Fr1MmSU5fBBc9.ttf)format('truetype');}@font-face{font-family:'Roboto';font-style:normal;font-weight:400;src:url(//fonts.gstatic.com/s/roboto/v18/KFOmCnqEu92Fr1Mu4mxP.ttf)format('truetype');}@font-face{font-family:'Roboto';font-style:normal;font-weight:500;src:url(//fonts.gstatic.com/s/roboto/v18/KFOlCnqEu92Fr1MmEU9fBBc9.ttf)format('truetype');}@font-face{font-family:'Roboto';font-style:normal;font-weight:700;src:url(//fonts.gstatic.com/s/roboto/v18/KFOlCnqEu92Fr1MmWUlfBBc9.ttf)format('truetype');}</style><meta name=\"referrer\" content=\"origin\"><title>spamhamdata.csv - Google Drive</title><meta property=\"og:title\" content=\"spamhamdata.csv\"><meta property=\"og:type\" content=\"article\"><meta property=\"og:site_name\" content=\"Google Docs\"><meta property=\"og:url\" content=\"https://drive.google.com/file/d/11asqfA9wl-uNnWHADCHGLqIrWFDbuyX2/view?usp=share_link&amp;usp=embed_facebook\"><link rel=\"shortcut icon\" href=\"https://ssl.gstatic.com/images/branding/product/1x/drive_2020q4_32dp.png\"><link rel=\"stylesheet\" href=\"https://fonts.googleapis.com/css?family=Google+Sans:300  \\\n",
            "0                                                 try{                                                                                                                                                                                                                                                                                                                                                                                                                                                                                                                                                                                                                                                                                                                                                                                                                                                                                                                                                                                                                                                                                                                                                                                                                                                                                                                                                                                                                                                                                                                     \n",
            "1                                                   /*                                                                                                                                                                                                                                                                                                                                                                                                                                                                                                                                                                                                                                                                                                                                                                                                                                                                                                                                                                                                                                                                                                                                                                                                                                                                                                                                                                                                                                                                                                                     \n",
            "2               Copyright The Closure Library Authors.                                                                                                                                                                                                                                                                                                                                                                                                                                                                                                                                                                                                                                                                                                                                                                                                                                                                                                                                                                                                                                                                                                                                                                                                                                                                                                                                                                                                                                                                                                                     \n",
            "3                  SPDX-License-Identifier: Apache-2.0                                                                                                                                                                                                                                                                                                                                                                                                                                                                                                                                                                                                                                                                                                                                                                                                                                                                                                                                                                                                                                                                                                                                                                                                                                                                                                                                                                                                                                                                                                                     \n",
            "4                                                   */                                                                                                                                                                                                                                                                                                                                                                                                                                                                                                                                                                                                                                                                                                                                                                                                                                                                                                                                                                                                                                                                                                                                                                                                                                                                                                                                                                                                                                                                                                                     \n",
            "..                                                 ...                                                                                                                                                                                                                                                                                                                                                                                                                                                                                                                                                                                                                                                                                                                                                                                                                                                                                                                                                                                                                                                                                                                                                                                                                                                                                                                                                                                                                                                                                                                     \n",
            "114                                  var Oj=function(a                                                                                                                                                                                                                                                                                                                                                                                                                                                                                                                                                                                                                                                                                                                                                                                                                                                                                                                                                                                                                                                                                                                                                                                                                                                                                                                                                                                                                                                                                                                     \n",
            "115                     }catch(e){_._DumpException(e)}                                                                                                                                                                                                                                                                                                                                                                                                                                                                                                                                                                                                                                                                                                                                                                                                                                                                                                                                                                                                                                                                                                                                                                                                                                                                                                                                                                                                                                                                                                                     \n",
            "116                                    })(this.gbar_);                                                                                                                                                                                                                                                                                                                                                                                                                                                                                                                                                                                                                                                                                                                                                                                                                                                                                                                                                                                                                                                                                                                                                                                                                                                                                                                                                                                                                                                                                                                     \n",
            "117                                     // Google Inc.                                                                                                                                                                                                                                                                                                                                                                                                                                                                                                                                                                                                                                                                                                                                                                                                                                                                                                                                                                                                                                                                                                                                                                                                                                                                                                                                                                                                                                                                                                                     \n",
            "118  </script><script id=\"base-js\" async type=\"text...                                                                                                                                                                                                                                                                                                                                                                                                                                                                                                                                                                                                                                                                                                                                                                                                                                                                                                                                                                                                                                                                                                                                                                                                                                                                                                                                                                                                                                                                                                                     \n",
            "\n",
            "                                                   400             500  \\\n",
            "0                                                  NaN             NaN   \n",
            "1                                                  NaN             NaN   \n",
            "2                                                  NaN             NaN   \n",
            "3                                                  NaN             NaN   \n",
            "4                                                  NaN             NaN   \n",
            "..                                                 ...             ...   \n",
            "114                                                  b  c){_.qe.log(46   \n",
            "115                                                NaN             NaN   \n",
            "116                                                NaN             NaN   \n",
            "117                                                NaN             NaN   \n",
            "118  wb\" nonce=\"CfrbEyP-B7gmbKqA0JLQQQ\"></script></...             NaN   \n",
            "\n",
            "    700\" nonce=\"rzJ0PtsFg-jhS16QLcRDKQ\"><link rel=\"stylesheet\" href=\"https://www.gstatic.com/_/apps-fileview/_/ss/k=apps-fileview.v.LA_tIyToxxs.L.X.O/am=AAAB/d=0/rs=AO0039ulrw9B3L4NkPzUfLiZ_E8pAmNgSw\" nonce=\"rzJ0PtsFg-jhS16QLcRDKQ\"><script nonce=\"CfrbEyP-B7gmbKqA0JLQQQ\">_docs_flag_initialData={\"docs-ails\":\"docs_cold\"  \\\n",
            "0                                                  NaN                                                                                                                                                                                                                                                                           \n",
            "1                                                  NaN                                                                                                                                                                                                                                                                           \n",
            "2                                                  NaN                                                                                                                                                                                                                                                                           \n",
            "3                                                  NaN                                                                                                                                                                                                                                                                           \n",
            "4                                                  NaN                                                                                                                                                                                                                                                                           \n",
            "..                                                 ...                                                                                                                                                                                                                                                                           \n",
            "114                                             {att:a                                                                                                                                                                                                                                                                           \n",
            "115                                                NaN                                                                                                                                                                                                                                                                           \n",
            "116                                                NaN                                                                                                                                                                                                                                                                           \n",
            "117                                                NaN                                                                                                                                                                                                                                                                           \n",
            "118                                                NaN                                                                                                                                                                                                                                                                           \n",
            "\n",
            "    docs-fwds:\"docs_sdf\" docs-crs:\"docs_crs_nfd\"   docs-fe-re:3 docs-fl:1  \\\n",
            "0                    NaN                     NaN            NaN       NaN   \n",
            "1                    NaN                     NaN            NaN       NaN   \n",
            "2                    NaN                     NaN            NaN       NaN   \n",
            "3                    NaN                     NaN            NaN       NaN   \n",
            "4                    NaN                     NaN            NaN       NaN   \n",
            "..                   ...                     ...            ...       ...   \n",
            "114                max:b                url:c})}  Qj=function(a         b   \n",
            "115                  NaN                     NaN            NaN       NaN   \n",
            "116                  NaN                     NaN            NaN       NaN   \n",
            "117                  NaN                     NaN            NaN       NaN   \n",
            "118                  NaN                     NaN            NaN       NaN   \n",
            "\n",
            "        docs-l1lc:2 docs-l1lm:\"CHS\"  ... 0.86 0.87 0.88 0.89 1].10 [[null.2  \\\n",
            "0               NaN             NaN  ...  NaN  NaN  NaN  NaN   NaN      NaN   \n",
            "1               NaN             NaN  ...  NaN  NaN  NaN  NaN   NaN      NaN   \n",
            "2               NaN             NaN  ...  NaN  NaN  NaN  NaN   NaN      NaN   \n",
            "3               NaN             NaN  ...  NaN  NaN  NaN  NaN   NaN      NaN   \n",
            "4               NaN             NaN  ...  NaN  NaN  NaN  NaN   NaN      NaN   \n",
            "..              ...             ...  ...  ...  ...  ...  ...   ...      ...   \n",
            "114  c){_.qe.log(47          {att:a  ...  NaN  NaN  NaN  NaN   NaN      NaN   \n",
            "115             NaN             NaN  ...  NaN  NaN  NaN  NaN   NaN      NaN   \n",
            "116             NaN             NaN  ...  NaN  NaN  NaN  NaN   NaN      NaN   \n",
            "117             NaN             NaN  ...  NaN  NaN  NaN  NaN   NaN      NaN   \n",
            "118             NaN             NaN  ...  NaN  NaN  NaN  NaN   NaN      NaN   \n",
            "\n",
            "    null.203 null.204  \\\n",
            "0        NaN      NaN   \n",
            "1        NaN      NaN   \n",
            "2        NaN      NaN   \n",
            "3        NaN      NaN   \n",
            "4        NaN      NaN   \n",
            "..       ...      ...   \n",
            "114      NaN      NaN   \n",
            "115      NaN      NaN   \n",
            "116      NaN      NaN   \n",
            "117      NaN      NaN   \n",
            "118      NaN      NaN   \n",
            "\n",
            "    https://www.gstatic.com/og/_/js/k=og.qtm.en_US.fnClKEjbOGI.es5.O/rt=j/m=qabr,q_dnp,qapid/exm=qaaw,qadd,qaid,qein,qhaw,qhba,qhbr,qhch,qhga,qhid,qhin,qhpr/d=1/ed=1/rs=AA2YrTtl0TXv7bY2fDroehoU7vFTrgVpRA]]]]  \\\n",
            "0                                                  NaN                                                                                                                                                            \n",
            "1                                                  NaN                                                                                                                                                            \n",
            "2                                                  NaN                                                                                                                                                            \n",
            "3                                                  NaN                                                                                                                                                            \n",
            "4                                                  NaN                                                                                                                                                            \n",
            "..                                                 ...                                                                                                                                                            \n",
            "114                                                NaN                                                                                                                                                            \n",
            "115                                                NaN                                                                                                                                                            \n",
            "116                                                NaN                                                                                                                                                            \n",
            "117                                                NaN                                                                                                                                                            \n",
            "118                                                NaN                                                                                                                                                            \n",
            "\n",
            "    };this.gbar_=this.gbar_||{};(function(_){var window=this;  \n",
            "0                                                  NaN         \n",
            "1                                                  NaN         \n",
            "2                                                  NaN         \n",
            "3                                                  NaN         \n",
            "4                                                  NaN         \n",
            "..                                                 ...         \n",
            "114                                                NaN         \n",
            "115                                                NaN         \n",
            "116                                                NaN         \n",
            "117                                                NaN         \n",
            "118                                                NaN         \n",
            "\n",
            "[119 rows x 808 columns]\n"
          ]
        }
      ]
    },
    {
      "cell_type": "code",
      "metadata": {
        "id": "yhakjIE1N011"
      },
      "source": [
        "# replace the null values with a null string\n",
        "mail_data = raw_mail_data.where((pd.notnull(raw_mail_data)),'')"
      ],
      "execution_count": 40,
      "outputs": []
    },
    {
      "cell_type": "code",
      "metadata": {
        "colab": {
          "base_uri": "https://localhost:8080/",
          "height": 612
        },
        "id": "SJey6H-SOWeK",
        "outputId": "cd1065a5-2599-42d8-d077-ab464879a3bb"
      },
      "source": [
        "# printing the first 5 rows of the dataframe\n",
        "mail_data.head()"
      ],
      "execution_count": 41,
      "outputs": [
        {
          "output_type": "execute_result",
          "data": {
            "text/plain": [
              "  <!DOCTYPE html><html><head><meta name=\"google\" content=\"notranslate\"><meta http-equiv=\"X-UA-Compatible\" content=\"IE=edge;\"><style nonce=\"rzJ0PtsFg-jhS16QLcRDKQ\">@font-face{font-family:'Roboto';font-style:italic;font-weight:400;src:url(//fonts.gstatic.com/s/roboto/v18/KFOkCnqEu92Fr1Mu51xIIzc.ttf)format('truetype');}@font-face{font-family:'Roboto';font-style:normal;font-weight:300;src:url(//fonts.gstatic.com/s/roboto/v18/KFOlCnqEu92Fr1MmSU5fBBc9.ttf)format('truetype');}@font-face{font-family:'Roboto';font-style:normal;font-weight:400;src:url(//fonts.gstatic.com/s/roboto/v18/KFOmCnqEu92Fr1Mu4mxP.ttf)format('truetype');}@font-face{font-family:'Roboto';font-style:normal;font-weight:500;src:url(//fonts.gstatic.com/s/roboto/v18/KFOlCnqEu92Fr1MmEU9fBBc9.ttf)format('truetype');}@font-face{font-family:'Roboto';font-style:normal;font-weight:700;src:url(//fonts.gstatic.com/s/roboto/v18/KFOlCnqEu92Fr1MmWUlfBBc9.ttf)format('truetype');}</style><meta name=\"referrer\" content=\"origin\"><title>spamhamdata.csv - Google Drive</title><meta property=\"og:title\" content=\"spamhamdata.csv\"><meta property=\"og:type\" content=\"article\"><meta property=\"og:site_name\" content=\"Google Docs\"><meta property=\"og:url\" content=\"https://drive.google.com/file/d/11asqfA9wl-uNnWHADCHGLqIrWFDbuyX2/view?usp=share_link&amp;usp=embed_facebook\"><link rel=\"shortcut icon\" href=\"https://ssl.gstatic.com/images/branding/product/1x/drive_2020q4_32dp.png\"><link rel=\"stylesheet\" href=\"https://fonts.googleapis.com/css?family=Google+Sans:300  \\\n",
              "0                                               try{                                                                                                                                                                                                                                                                                                                                                                                                                                                                                                                                                                                                                                                                                                                                                                                                                                                                                                                                                                                                                                                                                                                                                                                                                                                                                                                                                                                                                                                                                                                     \n",
              "1                                                 /*                                                                                                                                                                                                                                                                                                                                                                                                                                                                                                                                                                                                                                                                                                                                                                                                                                                                                                                                                                                                                                                                                                                                                                                                                                                                                                                                                                                                                                                                                                                     \n",
              "2             Copyright The Closure Library Authors.                                                                                                                                                                                                                                                                                                                                                                                                                                                                                                                                                                                                                                                                                                                                                                                                                                                                                                                                                                                                                                                                                                                                                                                                                                                                                                                                                                                                                                                                                                                     \n",
              "3                SPDX-License-Identifier: Apache-2.0                                                                                                                                                                                                                                                                                                                                                                                                                                                                                                                                                                                                                                                                                                                                                                                                                                                                                                                                                                                                                                                                                                                                                                                                                                                                                                                                                                                                                                                                                                                     \n",
              "4                                                 */                                                                                                                                                                                                                                                                                                                                                                                                                                                                                                                                                                                                                                                                                                                                                                                                                                                                                                                                                                                                                                                                                                                                                                                                                                                                                                                                                                                                                                                                                                                     \n",
              "\n",
              "  400 500  \\\n",
              "0           \n",
              "1           \n",
              "2           \n",
              "3           \n",
              "4           \n",
              "\n",
              "  700\" nonce=\"rzJ0PtsFg-jhS16QLcRDKQ\"><link rel=\"stylesheet\" href=\"https://www.gstatic.com/_/apps-fileview/_/ss/k=apps-fileview.v.LA_tIyToxxs.L.X.O/am=AAAB/d=0/rs=AO0039ulrw9B3L4NkPzUfLiZ_E8pAmNgSw\" nonce=\"rzJ0PtsFg-jhS16QLcRDKQ\"><script nonce=\"CfrbEyP-B7gmbKqA0JLQQQ\">_docs_flag_initialData={\"docs-ails\":\"docs_cold\"  \\\n",
              "0                                                                                                                                                                                                                                                                                                                              \n",
              "1                                                                                                                                                                                                                                                                                                                              \n",
              "2                                                                                                                                                                                                                                                                                                                              \n",
              "3                                                                                                                                                                                                                                                                                                                              \n",
              "4                                                                                                                                                                                                                                                                                                                              \n",
              "\n",
              "  docs-fwds:\"docs_sdf\" docs-crs:\"docs_crs_nfd\" docs-fe-re:3 docs-fl:1  \\\n",
              "0                                                                       \n",
              "1                                                                       \n",
              "2                                                                       \n",
              "3                                                                       \n",
              "4                                                                       \n",
              "\n",
              "  docs-l1lc:2 docs-l1lm:\"CHS\"  ... 0.86 0.87 0.88 0.89 1].10 [[null.2  \\\n",
              "0                              ...                                      \n",
              "1                              ...                                      \n",
              "2                              ...                                      \n",
              "3                              ...                                      \n",
              "4                              ...                                      \n",
              "\n",
              "  null.203 null.204  \\\n",
              "0                     \n",
              "1                     \n",
              "2                     \n",
              "3                     \n",
              "4                     \n",
              "\n",
              "  https://www.gstatic.com/og/_/js/k=og.qtm.en_US.fnClKEjbOGI.es5.O/rt=j/m=qabr,q_dnp,qapid/exm=qaaw,qadd,qaid,qein,qhaw,qhba,qhbr,qhch,qhga,qhid,qhin,qhpr/d=1/ed=1/rs=AA2YrTtl0TXv7bY2fDroehoU7vFTrgVpRA]]]]  \\\n",
              "0                                                                                                                                                                                                               \n",
              "1                                                                                                                                                                                                               \n",
              "2                                                                                                                                                                                                               \n",
              "3                                                                                                                                                                                                               \n",
              "4                                                                                                                                                                                                               \n",
              "\n",
              "  };this.gbar_=this.gbar_||{};(function(_){var window=this;  \n",
              "0                                                            \n",
              "1                                                            \n",
              "2                                                            \n",
              "3                                                            \n",
              "4                                                            \n",
              "\n",
              "[5 rows x 808 columns]"
            ],
            "text/html": [
              "\n",
              "  <div id=\"df-1b2f1726-6412-4113-9813-2dd9fdf11e00\">\n",
              "    <div class=\"colab-df-container\">\n",
              "      <div>\n",
              "<style scoped>\n",
              "    .dataframe tbody tr th:only-of-type {\n",
              "        vertical-align: middle;\n",
              "    }\n",
              "\n",
              "    .dataframe tbody tr th {\n",
              "        vertical-align: top;\n",
              "    }\n",
              "\n",
              "    .dataframe thead th {\n",
              "        text-align: right;\n",
              "    }\n",
              "</style>\n",
              "<table border=\"1\" class=\"dataframe\">\n",
              "  <thead>\n",
              "    <tr style=\"text-align: right;\">\n",
              "      <th></th>\n",
              "      <th>&lt;!DOCTYPE html&gt;&lt;html&gt;&lt;head&gt;&lt;meta name=\"google\" content=\"notranslate\"&gt;&lt;meta http-equiv=\"X-UA-Compatible\" content=\"IE=edge;\"&gt;&lt;style nonce=\"rzJ0PtsFg-jhS16QLcRDKQ\"&gt;@font-face{font-family:'Roboto';font-style:italic;font-weight:400;src:url(//fonts.gstatic.com/s/roboto/v18/KFOkCnqEu92Fr1Mu51xIIzc.ttf)format('truetype');}@font-face{font-family:'Roboto';font-style:normal;font-weight:300;src:url(//fonts.gstatic.com/s/roboto/v18/KFOlCnqEu92Fr1MmSU5fBBc9.ttf)format('truetype');}@font-face{font-family:'Roboto';font-style:normal;font-weight:400;src:url(//fonts.gstatic.com/s/roboto/v18/KFOmCnqEu92Fr1Mu4mxP.ttf)format('truetype');}@font-face{font-family:'Roboto';font-style:normal;font-weight:500;src:url(//fonts.gstatic.com/s/roboto/v18/KFOlCnqEu92Fr1MmEU9fBBc9.ttf)format('truetype');}@font-face{font-family:'Roboto';font-style:normal;font-weight:700;src:url(//fonts.gstatic.com/s/roboto/v18/KFOlCnqEu92Fr1MmWUlfBBc9.ttf)format('truetype');}&lt;/style&gt;&lt;meta name=\"referrer\" content=\"origin\"&gt;&lt;title&gt;spamhamdata.csv - Google Drive&lt;/title&gt;&lt;meta property=\"og:title\" content=\"spamhamdata.csv\"&gt;&lt;meta property=\"og:type\" content=\"article\"&gt;&lt;meta property=\"og:site_name\" content=\"Google Docs\"&gt;&lt;meta property=\"og:url\" content=\"https://drive.google.com/file/d/11asqfA9wl-uNnWHADCHGLqIrWFDbuyX2/view?usp=share_link&amp;amp;usp=embed_facebook\"&gt;&lt;link rel=\"shortcut icon\" href=\"https://ssl.gstatic.com/images/branding/product/1x/drive_2020q4_32dp.png\"&gt;&lt;link rel=\"stylesheet\" href=\"https://fonts.googleapis.com/css?family=Google+Sans:300</th>\n",
              "      <th>400</th>\n",
              "      <th>500</th>\n",
              "      <th>700\" nonce=\"rzJ0PtsFg-jhS16QLcRDKQ\"&gt;&lt;link rel=\"stylesheet\" href=\"https://www.gstatic.com/_/apps-fileview/_/ss/k=apps-fileview.v.LA_tIyToxxs.L.X.O/am=AAAB/d=0/rs=AO0039ulrw9B3L4NkPzUfLiZ_E8pAmNgSw\" nonce=\"rzJ0PtsFg-jhS16QLcRDKQ\"&gt;&lt;script nonce=\"CfrbEyP-B7gmbKqA0JLQQQ\"&gt;_docs_flag_initialData={\"docs-ails\":\"docs_cold\"</th>\n",
              "      <th>docs-fwds:\"docs_sdf\"</th>\n",
              "      <th>docs-crs:\"docs_crs_nfd\"</th>\n",
              "      <th>docs-fe-re:3</th>\n",
              "      <th>docs-fl:1</th>\n",
              "      <th>docs-l1lc:2</th>\n",
              "      <th>docs-l1lm:\"CHS\"</th>\n",
              "      <th>...</th>\n",
              "      <th>0.86</th>\n",
              "      <th>0.87</th>\n",
              "      <th>0.88</th>\n",
              "      <th>0.89</th>\n",
              "      <th>1].10</th>\n",
              "      <th>[[null.2</th>\n",
              "      <th>null.203</th>\n",
              "      <th>null.204</th>\n",
              "      <th>https://www.gstatic.com/og/_/js/k=og.qtm.en_US.fnClKEjbOGI.es5.O/rt=j/m=qabr,q_dnp,qapid/exm=qaaw,qadd,qaid,qein,qhaw,qhba,qhbr,qhch,qhga,qhid,qhin,qhpr/d=1/ed=1/rs=AA2YrTtl0TXv7bY2fDroehoU7vFTrgVpRA]]]]</th>\n",
              "      <th>};this.gbar_=this.gbar_||{};(function(_){var window=this;</th>\n",
              "    </tr>\n",
              "  </thead>\n",
              "  <tbody>\n",
              "    <tr>\n",
              "      <th>0</th>\n",
              "      <td>try{</td>\n",
              "      <td></td>\n",
              "      <td></td>\n",
              "      <td></td>\n",
              "      <td></td>\n",
              "      <td></td>\n",
              "      <td></td>\n",
              "      <td></td>\n",
              "      <td></td>\n",
              "      <td></td>\n",
              "      <td>...</td>\n",
              "      <td></td>\n",
              "      <td></td>\n",
              "      <td></td>\n",
              "      <td></td>\n",
              "      <td></td>\n",
              "      <td></td>\n",
              "      <td></td>\n",
              "      <td></td>\n",
              "      <td></td>\n",
              "      <td></td>\n",
              "    </tr>\n",
              "    <tr>\n",
              "      <th>1</th>\n",
              "      <td>/*</td>\n",
              "      <td></td>\n",
              "      <td></td>\n",
              "      <td></td>\n",
              "      <td></td>\n",
              "      <td></td>\n",
              "      <td></td>\n",
              "      <td></td>\n",
              "      <td></td>\n",
              "      <td></td>\n",
              "      <td>...</td>\n",
              "      <td></td>\n",
              "      <td></td>\n",
              "      <td></td>\n",
              "      <td></td>\n",
              "      <td></td>\n",
              "      <td></td>\n",
              "      <td></td>\n",
              "      <td></td>\n",
              "      <td></td>\n",
              "      <td></td>\n",
              "    </tr>\n",
              "    <tr>\n",
              "      <th>2</th>\n",
              "      <td>Copyright The Closure Library Authors.</td>\n",
              "      <td></td>\n",
              "      <td></td>\n",
              "      <td></td>\n",
              "      <td></td>\n",
              "      <td></td>\n",
              "      <td></td>\n",
              "      <td></td>\n",
              "      <td></td>\n",
              "      <td></td>\n",
              "      <td>...</td>\n",
              "      <td></td>\n",
              "      <td></td>\n",
              "      <td></td>\n",
              "      <td></td>\n",
              "      <td></td>\n",
              "      <td></td>\n",
              "      <td></td>\n",
              "      <td></td>\n",
              "      <td></td>\n",
              "      <td></td>\n",
              "    </tr>\n",
              "    <tr>\n",
              "      <th>3</th>\n",
              "      <td>SPDX-License-Identifier: Apache-2.0</td>\n",
              "      <td></td>\n",
              "      <td></td>\n",
              "      <td></td>\n",
              "      <td></td>\n",
              "      <td></td>\n",
              "      <td></td>\n",
              "      <td></td>\n",
              "      <td></td>\n",
              "      <td></td>\n",
              "      <td>...</td>\n",
              "      <td></td>\n",
              "      <td></td>\n",
              "      <td></td>\n",
              "      <td></td>\n",
              "      <td></td>\n",
              "      <td></td>\n",
              "      <td></td>\n",
              "      <td></td>\n",
              "      <td></td>\n",
              "      <td></td>\n",
              "    </tr>\n",
              "    <tr>\n",
              "      <th>4</th>\n",
              "      <td>*/</td>\n",
              "      <td></td>\n",
              "      <td></td>\n",
              "      <td></td>\n",
              "      <td></td>\n",
              "      <td></td>\n",
              "      <td></td>\n",
              "      <td></td>\n",
              "      <td></td>\n",
              "      <td></td>\n",
              "      <td>...</td>\n",
              "      <td></td>\n",
              "      <td></td>\n",
              "      <td></td>\n",
              "      <td></td>\n",
              "      <td></td>\n",
              "      <td></td>\n",
              "      <td></td>\n",
              "      <td></td>\n",
              "      <td></td>\n",
              "      <td></td>\n",
              "    </tr>\n",
              "  </tbody>\n",
              "</table>\n",
              "<p>5 rows × 808 columns</p>\n",
              "</div>\n",
              "      <button class=\"colab-df-convert\" onclick=\"convertToInteractive('df-1b2f1726-6412-4113-9813-2dd9fdf11e00')\"\n",
              "              title=\"Convert this dataframe to an interactive table.\"\n",
              "              style=\"display:none;\">\n",
              "        \n",
              "  <svg xmlns=\"http://www.w3.org/2000/svg\" height=\"24px\"viewBox=\"0 0 24 24\"\n",
              "       width=\"24px\">\n",
              "    <path d=\"M0 0h24v24H0V0z\" fill=\"none\"/>\n",
              "    <path d=\"M18.56 5.44l.94 2.06.94-2.06 2.06-.94-2.06-.94-.94-2.06-.94 2.06-2.06.94zm-11 1L8.5 8.5l.94-2.06 2.06-.94-2.06-.94L8.5 2.5l-.94 2.06-2.06.94zm10 10l.94 2.06.94-2.06 2.06-.94-2.06-.94-.94-2.06-.94 2.06-2.06.94z\"/><path d=\"M17.41 7.96l-1.37-1.37c-.4-.4-.92-.59-1.43-.59-.52 0-1.04.2-1.43.59L10.3 9.45l-7.72 7.72c-.78.78-.78 2.05 0 2.83L4 21.41c.39.39.9.59 1.41.59.51 0 1.02-.2 1.41-.59l7.78-7.78 2.81-2.81c.8-.78.8-2.07 0-2.86zM5.41 20L4 18.59l7.72-7.72 1.47 1.35L5.41 20z\"/>\n",
              "  </svg>\n",
              "      </button>\n",
              "      \n",
              "  <style>\n",
              "    .colab-df-container {\n",
              "      display:flex;\n",
              "      flex-wrap:wrap;\n",
              "      gap: 12px;\n",
              "    }\n",
              "\n",
              "    .colab-df-convert {\n",
              "      background-color: #E8F0FE;\n",
              "      border: none;\n",
              "      border-radius: 50%;\n",
              "      cursor: pointer;\n",
              "      display: none;\n",
              "      fill: #1967D2;\n",
              "      height: 32px;\n",
              "      padding: 0 0 0 0;\n",
              "      width: 32px;\n",
              "    }\n",
              "\n",
              "    .colab-df-convert:hover {\n",
              "      background-color: #E2EBFA;\n",
              "      box-shadow: 0px 1px 2px rgba(60, 64, 67, 0.3), 0px 1px 3px 1px rgba(60, 64, 67, 0.15);\n",
              "      fill: #174EA6;\n",
              "    }\n",
              "\n",
              "    [theme=dark] .colab-df-convert {\n",
              "      background-color: #3B4455;\n",
              "      fill: #D2E3FC;\n",
              "    }\n",
              "\n",
              "    [theme=dark] .colab-df-convert:hover {\n",
              "      background-color: #434B5C;\n",
              "      box-shadow: 0px 1px 3px 1px rgba(0, 0, 0, 0.15);\n",
              "      filter: drop-shadow(0px 1px 2px rgba(0, 0, 0, 0.3));\n",
              "      fill: #FFFFFF;\n",
              "    }\n",
              "  </style>\n",
              "\n",
              "      <script>\n",
              "        const buttonEl =\n",
              "          document.querySelector('#df-1b2f1726-6412-4113-9813-2dd9fdf11e00 button.colab-df-convert');\n",
              "        buttonEl.style.display =\n",
              "          google.colab.kernel.accessAllowed ? 'block' : 'none';\n",
              "\n",
              "        async function convertToInteractive(key) {\n",
              "          const element = document.querySelector('#df-1b2f1726-6412-4113-9813-2dd9fdf11e00');\n",
              "          const dataTable =\n",
              "            await google.colab.kernel.invokeFunction('convertToInteractive',\n",
              "                                                     [key], {});\n",
              "          if (!dataTable) return;\n",
              "\n",
              "          const docLinkHtml = 'Like what you see? Visit the ' +\n",
              "            '<a target=\"_blank\" href=https://colab.research.google.com/notebooks/data_table.ipynb>data table notebook</a>'\n",
              "            + ' to learn more about interactive tables.';\n",
              "          element.innerHTML = '';\n",
              "          dataTable['output_type'] = 'display_data';\n",
              "          await google.colab.output.renderOutput(dataTable, element);\n",
              "          const docLink = document.createElement('div');\n",
              "          docLink.innerHTML = docLinkHtml;\n",
              "          element.appendChild(docLink);\n",
              "        }\n",
              "      </script>\n",
              "    </div>\n",
              "  </div>\n",
              "  "
            ]
          },
          "metadata": {},
          "execution_count": 41
        }
      ]
    },
    {
      "cell_type": "code",
      "metadata": {
        "colab": {
          "base_uri": "https://localhost:8080/"
        },
        "id": "IbK82N2gOdar",
        "outputId": "23dd34df-d585-4fdc-dc54-299e6e1a79aa"
      },
      "source": [
        "# checking the number of rows and columns in the dataframe\n",
        "mail_data.shape"
      ],
      "execution_count": 31,
      "outputs": [
        {
          "output_type": "execute_result",
          "data": {
            "text/plain": [
              "(119, 808)"
            ]
          },
          "metadata": {},
          "execution_count": 31
        }
      ]
    },
    {
      "cell_type": "markdown",
      "metadata": {
        "id": "vhR4U3ATPBdk"
      },
      "source": [
        "Label Encoding"
      ]
    },
    {
      "cell_type": "code",
      "metadata": {
        "id": "9EW7QSgeOt4p",
        "colab": {
          "base_uri": "https://localhost:8080/",
          "height": 501
        },
        "outputId": "5bf21acb-e220-4157-e5cd-45338333b351"
      },
      "source": [
        "# label spam mail as 0;  ham mail as 1;\n",
        "\n",
        "mail_data.loc[mail_data['Category'] == 'spam', 'Category',] = 0\n",
        "mail_data.loc[mail_data['Category'] == 'ham', 'Category',] = 1"
      ],
      "execution_count": 32,
      "outputs": [
        {
          "output_type": "error",
          "ename": "KeyError",
          "evalue": "ignored",
          "traceback": [
            "\u001b[0;31m---------------------------------------------------------------------------\u001b[0m",
            "\u001b[0;31mKeyError\u001b[0m                                  Traceback (most recent call last)",
            "\u001b[0;32m/usr/local/lib/python3.9/dist-packages/pandas/core/indexes/base.py\u001b[0m in \u001b[0;36mget_loc\u001b[0;34m(self, key, method, tolerance)\u001b[0m\n\u001b[1;32m   3628\u001b[0m             \u001b[0;32mtry\u001b[0m\u001b[0;34m:\u001b[0m\u001b[0;34m\u001b[0m\u001b[0;34m\u001b[0m\u001b[0m\n\u001b[0;32m-> 3629\u001b[0;31m                 \u001b[0;32mreturn\u001b[0m \u001b[0mself\u001b[0m\u001b[0;34m.\u001b[0m\u001b[0m_engine\u001b[0m\u001b[0;34m.\u001b[0m\u001b[0mget_loc\u001b[0m\u001b[0;34m(\u001b[0m\u001b[0mcasted_key\u001b[0m\u001b[0;34m)\u001b[0m\u001b[0;34m\u001b[0m\u001b[0;34m\u001b[0m\u001b[0m\n\u001b[0m\u001b[1;32m   3630\u001b[0m             \u001b[0;32mexcept\u001b[0m \u001b[0mKeyError\u001b[0m \u001b[0;32mas\u001b[0m \u001b[0merr\u001b[0m\u001b[0;34m:\u001b[0m\u001b[0;34m\u001b[0m\u001b[0;34m\u001b[0m\u001b[0m\n",
            "\u001b[0;32m/usr/local/lib/python3.9/dist-packages/pandas/_libs/index.pyx\u001b[0m in \u001b[0;36mpandas._libs.index.IndexEngine.get_loc\u001b[0;34m()\u001b[0m\n",
            "\u001b[0;32m/usr/local/lib/python3.9/dist-packages/pandas/_libs/index.pyx\u001b[0m in \u001b[0;36mpandas._libs.index.IndexEngine.get_loc\u001b[0;34m()\u001b[0m\n",
            "\u001b[0;32mpandas/_libs/hashtable_class_helper.pxi\u001b[0m in \u001b[0;36mpandas._libs.hashtable.PyObjectHashTable.get_item\u001b[0;34m()\u001b[0m\n",
            "\u001b[0;32mpandas/_libs/hashtable_class_helper.pxi\u001b[0m in \u001b[0;36mpandas._libs.hashtable.PyObjectHashTable.get_item\u001b[0;34m()\u001b[0m\n",
            "\u001b[0;31mKeyError\u001b[0m: 'Category'",
            "\nThe above exception was the direct cause of the following exception:\n",
            "\u001b[0;31mKeyError\u001b[0m                                  Traceback (most recent call last)",
            "\u001b[0;32m<ipython-input-32-6d20883fb61c>\u001b[0m in \u001b[0;36m<cell line: 3>\u001b[0;34m()\u001b[0m\n\u001b[1;32m      1\u001b[0m \u001b[0;31m# label spam mail as 0;  ham mail as 1;\u001b[0m\u001b[0;34m\u001b[0m\u001b[0;34m\u001b[0m\u001b[0m\n\u001b[1;32m      2\u001b[0m \u001b[0;34m\u001b[0m\u001b[0m\n\u001b[0;32m----> 3\u001b[0;31m \u001b[0mmail_data\u001b[0m\u001b[0;34m.\u001b[0m\u001b[0mloc\u001b[0m\u001b[0;34m[\u001b[0m\u001b[0mmail_data\u001b[0m\u001b[0;34m[\u001b[0m\u001b[0;34m'Category'\u001b[0m\u001b[0;34m]\u001b[0m \u001b[0;34m==\u001b[0m \u001b[0;34m'spam'\u001b[0m\u001b[0;34m,\u001b[0m \u001b[0;34m'Category'\u001b[0m\u001b[0;34m,\u001b[0m\u001b[0;34m]\u001b[0m \u001b[0;34m=\u001b[0m \u001b[0;36m0\u001b[0m\u001b[0;34m\u001b[0m\u001b[0;34m\u001b[0m\u001b[0m\n\u001b[0m\u001b[1;32m      4\u001b[0m \u001b[0mmail_data\u001b[0m\u001b[0;34m.\u001b[0m\u001b[0mloc\u001b[0m\u001b[0;34m[\u001b[0m\u001b[0mmail_data\u001b[0m\u001b[0;34m[\u001b[0m\u001b[0;34m'Category'\u001b[0m\u001b[0;34m]\u001b[0m \u001b[0;34m==\u001b[0m \u001b[0;34m'ham'\u001b[0m\u001b[0;34m,\u001b[0m \u001b[0;34m'Category'\u001b[0m\u001b[0;34m,\u001b[0m\u001b[0;34m]\u001b[0m \u001b[0;34m=\u001b[0m \u001b[0;36m1\u001b[0m\u001b[0;34m\u001b[0m\u001b[0;34m\u001b[0m\u001b[0m\n",
            "\u001b[0;32m/usr/local/lib/python3.9/dist-packages/pandas/core/frame.py\u001b[0m in \u001b[0;36m__getitem__\u001b[0;34m(self, key)\u001b[0m\n\u001b[1;32m   3503\u001b[0m             \u001b[0;32mif\u001b[0m \u001b[0mself\u001b[0m\u001b[0;34m.\u001b[0m\u001b[0mcolumns\u001b[0m\u001b[0;34m.\u001b[0m\u001b[0mnlevels\u001b[0m \u001b[0;34m>\u001b[0m \u001b[0;36m1\u001b[0m\u001b[0;34m:\u001b[0m\u001b[0;34m\u001b[0m\u001b[0;34m\u001b[0m\u001b[0m\n\u001b[1;32m   3504\u001b[0m                 \u001b[0;32mreturn\u001b[0m \u001b[0mself\u001b[0m\u001b[0;34m.\u001b[0m\u001b[0m_getitem_multilevel\u001b[0m\u001b[0;34m(\u001b[0m\u001b[0mkey\u001b[0m\u001b[0;34m)\u001b[0m\u001b[0;34m\u001b[0m\u001b[0;34m\u001b[0m\u001b[0m\n\u001b[0;32m-> 3505\u001b[0;31m             \u001b[0mindexer\u001b[0m \u001b[0;34m=\u001b[0m \u001b[0mself\u001b[0m\u001b[0;34m.\u001b[0m\u001b[0mcolumns\u001b[0m\u001b[0;34m.\u001b[0m\u001b[0mget_loc\u001b[0m\u001b[0;34m(\u001b[0m\u001b[0mkey\u001b[0m\u001b[0;34m)\u001b[0m\u001b[0;34m\u001b[0m\u001b[0;34m\u001b[0m\u001b[0m\n\u001b[0m\u001b[1;32m   3506\u001b[0m             \u001b[0;32mif\u001b[0m \u001b[0mis_integer\u001b[0m\u001b[0;34m(\u001b[0m\u001b[0mindexer\u001b[0m\u001b[0;34m)\u001b[0m\u001b[0;34m:\u001b[0m\u001b[0;34m\u001b[0m\u001b[0;34m\u001b[0m\u001b[0m\n\u001b[1;32m   3507\u001b[0m                 \u001b[0mindexer\u001b[0m \u001b[0;34m=\u001b[0m \u001b[0;34m[\u001b[0m\u001b[0mindexer\u001b[0m\u001b[0;34m]\u001b[0m\u001b[0;34m\u001b[0m\u001b[0;34m\u001b[0m\u001b[0m\n",
            "\u001b[0;32m/usr/local/lib/python3.9/dist-packages/pandas/core/indexes/base.py\u001b[0m in \u001b[0;36mget_loc\u001b[0;34m(self, key, method, tolerance)\u001b[0m\n\u001b[1;32m   3629\u001b[0m                 \u001b[0;32mreturn\u001b[0m \u001b[0mself\u001b[0m\u001b[0;34m.\u001b[0m\u001b[0m_engine\u001b[0m\u001b[0;34m.\u001b[0m\u001b[0mget_loc\u001b[0m\u001b[0;34m(\u001b[0m\u001b[0mcasted_key\u001b[0m\u001b[0;34m)\u001b[0m\u001b[0;34m\u001b[0m\u001b[0;34m\u001b[0m\u001b[0m\n\u001b[1;32m   3630\u001b[0m             \u001b[0;32mexcept\u001b[0m \u001b[0mKeyError\u001b[0m \u001b[0;32mas\u001b[0m \u001b[0merr\u001b[0m\u001b[0;34m:\u001b[0m\u001b[0;34m\u001b[0m\u001b[0;34m\u001b[0m\u001b[0m\n\u001b[0;32m-> 3631\u001b[0;31m                 \u001b[0;32mraise\u001b[0m \u001b[0mKeyError\u001b[0m\u001b[0;34m(\u001b[0m\u001b[0mkey\u001b[0m\u001b[0;34m)\u001b[0m \u001b[0;32mfrom\u001b[0m \u001b[0merr\u001b[0m\u001b[0;34m\u001b[0m\u001b[0;34m\u001b[0m\u001b[0m\n\u001b[0m\u001b[1;32m   3632\u001b[0m             \u001b[0;32mexcept\u001b[0m \u001b[0mTypeError\u001b[0m\u001b[0;34m:\u001b[0m\u001b[0;34m\u001b[0m\u001b[0;34m\u001b[0m\u001b[0m\n\u001b[1;32m   3633\u001b[0m                 \u001b[0;31m# If we have a listlike key, _check_indexing_error will raise\u001b[0m\u001b[0;34m\u001b[0m\u001b[0;34m\u001b[0m\u001b[0m\n",
            "\u001b[0;31mKeyError\u001b[0m: 'Category'"
          ]
        }
      ]
    },
    {
      "cell_type": "markdown",
      "metadata": {
        "id": "uxZK1fWwPwII"
      },
      "source": [
        "spam  -  0\n",
        "\n",
        "ham  -  1"
      ]
    },
    {
      "cell_type": "code",
      "metadata": {
        "id": "t8Rt-FaNPtPE"
      },
      "source": [
        "# separating the data as texts and label\n",
        "\n",
        "X = mail_data['Message']\n",
        "\n",
        "Y = mail_data['Category']"
      ],
      "execution_count": null,
      "outputs": []
    },
    {
      "cell_type": "code",
      "metadata": {
        "id": "QnQeUBGtQPP7"
      },
      "source": [
        "print(X)"
      ],
      "execution_count": null,
      "outputs": []
    },
    {
      "cell_type": "code",
      "metadata": {
        "id": "cuWDNy5KQQjY"
      },
      "source": [
        "print(Y)"
      ],
      "execution_count": null,
      "outputs": []
    },
    {
      "cell_type": "markdown",
      "metadata": {
        "id": "jvHyqdH8QZPH"
      },
      "source": [
        "Splitting the data into training data & test data"
      ]
    },
    {
      "cell_type": "code",
      "metadata": {
        "id": "RO2GmbSNQSQH"
      },
      "source": [
        "X_train, X_test, Y_train, Y_test = train_test_split(X, Y, test_size=0.2, random_state=3)"
      ],
      "execution_count": null,
      "outputs": []
    },
    {
      "cell_type": "code",
      "metadata": {
        "id": "tS2c7A4NRa46"
      },
      "source": [
        "print(X.shape)\n",
        "print(X_train.shape)\n",
        "print(X_test.shape)"
      ],
      "execution_count": null,
      "outputs": []
    },
    {
      "cell_type": "markdown",
      "metadata": {
        "id": "wYQpiACGSBYM"
      },
      "source": [
        "Feature Extraction"
      ]
    },
    {
      "cell_type": "code",
      "metadata": {
        "id": "nLs847nSRibm"
      },
      "source": [
        "# transform the text data to feature vectors that can be used as input to the Logistic regression\n",
        "\n",
        "feature_extraction = TfidfVectorizer(min_df = 1, stop_words='english', lowercase='True')\n",
        "\n",
        "X_train_features = feature_extraction.fit_transform(X_train)\n",
        "X_test_features = feature_extraction.transform(X_test)\n",
        "\n",
        "# convert Y_train and Y_test values as integers\n",
        "\n",
        "Y_train = Y_train.astype('int')\n",
        "Y_test = Y_test.astype('int')"
      ],
      "execution_count": null,
      "outputs": []
    },
    {
      "cell_type": "code",
      "metadata": {
        "id": "dBMAcw9RUkUY"
      },
      "source": [
        "print(X_train)"
      ],
      "execution_count": null,
      "outputs": []
    },
    {
      "cell_type": "code",
      "metadata": {
        "id": "1NFuGogZUpt0"
      },
      "source": [
        "print(X_train_features)"
      ],
      "execution_count": null,
      "outputs": []
    },
    {
      "cell_type": "markdown",
      "metadata": {
        "id": "q86FvELbU_SV"
      },
      "source": [
        "Training the Model"
      ]
    },
    {
      "cell_type": "markdown",
      "metadata": {
        "id": "hV6BAIZQVBbo"
      },
      "source": [
        "Logistic Regression"
      ]
    },
    {
      "cell_type": "code",
      "metadata": {
        "id": "1JeAOwzpUv0V"
      },
      "source": [
        "model = LogisticRegression()"
      ],
      "execution_count": null,
      "outputs": []
    },
    {
      "cell_type": "code",
      "metadata": {
        "id": "gWGRHWAPVI_z"
      },
      "source": [
        "# training the Logistic Regression model with the training data\n",
        "model.fit(X_train_features, Y_train)"
      ],
      "execution_count": null,
      "outputs": []
    },
    {
      "cell_type": "markdown",
      "metadata": {
        "id": "wZ01fa8dVeL5"
      },
      "source": [
        "Evaluating the trained model"
      ]
    },
    {
      "cell_type": "code",
      "metadata": {
        "id": "ExiF2kKxVYtC"
      },
      "source": [
        "# prediction on training data\n",
        "\n",
        "prediction_on_training_data = model.predict(X_train_features)\n",
        "accuracy_on_training_data = accuracy_score(Y_train, prediction_on_training_data)"
      ],
      "execution_count": null,
      "outputs": []
    },
    {
      "cell_type": "code",
      "metadata": {
        "id": "o7t4DI5UWCkB"
      },
      "source": [
        "print('Accuracy on training data : ', accuracy_on_training_data)"
      ],
      "execution_count": null,
      "outputs": []
    },
    {
      "cell_type": "code",
      "metadata": {
        "id": "cTin5rXTWKg3"
      },
      "source": [
        "# prediction on test data\n",
        "\n",
        "prediction_on_test_data = model.predict(X_test_features)\n",
        "accuracy_on_test_data = accuracy_score(Y_test, prediction_on_test_data)"
      ],
      "execution_count": null,
      "outputs": []
    },
    {
      "cell_type": "code",
      "metadata": {
        "id": "4gvoMK4OWnJY"
      },
      "source": [
        "print('Accuracy on test data : ', accuracy_on_test_data)"
      ],
      "execution_count": null,
      "outputs": []
    },
    {
      "cell_type": "markdown",
      "metadata": {
        "id": "bXdOKxYAXaHC"
      },
      "source": [
        "Building a Predictive System"
      ]
    },
    {
      "cell_type": "code",
      "metadata": {
        "id": "h60z1__mWql6"
      },
      "source": [
        "input_mail = [\"I've been trying to think of the proper words to express my gratitude for this respite. I pledge that I will not take your assistance for granted and that I will keep my commitment. You have always been nice and a blessing to me.\"]\n",
        "\n",
        "# convert text to feature vectors\n",
        "input_data_features = feature_extraction.transform(input_mail)\n",
        "\n",
        "# making prediction\n",
        "\n",
        "prediction = model.predict(input_data_features)\n",
        "print(prediction)\n",
        "\n",
        "\n",
        "if (prediction[0]==1):\n",
        "  print('Ham mail')\n",
        "\n",
        "else:\n",
        "  print('Spam mail')"
      ],
      "execution_count": null,
      "outputs": []
    },
    {
      "cell_type": "markdown",
      "source": [
        "**E-Mail Slicer**"
      ],
      "metadata": {
        "id": "a9rtj8krRFIJ"
      }
    },
    {
      "cell_type": "code",
      "source": [
        "import re\n",
        "\n",
        "# Make a regular expression\n",
        "# for validating an Email\n",
        "regex = r'\\b[A-Za-z0-9._%+-]+@[A-Za-z0-9.-]+\\.[A-Z|a-z]{2,}\\b'\n",
        "\n",
        "\n",
        "\n",
        "# Define a function for\n",
        "# for validating an Email\n",
        "\n",
        "def slicer():\n",
        "    # pass the regular expression\n",
        "    # and the string into the fullmatch() method\n",
        "    email = input(\"Email address of the sender: \")\n",
        "    if (re.fullmatch(regex, email)):\n",
        "        email.strip\n",
        "        # Slicing out the user name\n",
        "        user_name = email[:email.index(\"@\")]\n",
        "        # Slicing out the domain name\n",
        "        domain_name = email[email.index(\"@\") + 1:]\n",
        "        # Format message\n",
        "        res = \"The mail has been sent by '{}' and the domain name is '{}'\".format(user_name, domain_name)\n",
        "        # Display the result message\n",
        "        print(res)\n",
        "    else:\n",
        "        print(\"Please enter the valid email id\")\n",
        "\n",
        "slicer()\n"
      ],
      "metadata": {
        "id": "jSiWZdgtIW14"
      },
      "execution_count": null,
      "outputs": []
    }
  ]
}